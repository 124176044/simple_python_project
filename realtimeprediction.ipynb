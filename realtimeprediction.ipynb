{
 "cells": [
  {
   "cell_type": "markdown",
   "metadata": {},
   "source": [
    "LSTM REAL TIME PREDICTION"
   ]
  },
  {
   "cell_type": "code",
   "execution_count": 2,
   "metadata": {},
   "outputs": [
    {
     "ename": "ValueError",
     "evalue": "could not convert string to float: ''",
     "output_type": "error",
     "traceback": [
      "\u001b[1;31m---------------------------------------------------------------------------\u001b[0m",
      "\u001b[1;31mValueError\u001b[0m                                Traceback (most recent call last)",
      "Cell \u001b[1;32mIn[2], line 34\u001b[0m\n\u001b[0;32m     31\u001b[0m label_encoder\u001b[38;5;241m.\u001b[39mclasses_ \u001b[38;5;241m=\u001b[39m np\u001b[38;5;241m.\u001b[39mload(\u001b[38;5;124m\"\u001b[39m\u001b[38;5;124mC:\u001b[39m\u001b[38;5;130;01m\\\\\u001b[39;00m\u001b[38;5;124mUsers\u001b[39m\u001b[38;5;130;01m\\\\\u001b[39;00m\u001b[38;5;124mkamal\u001b[39m\u001b[38;5;130;01m\\\\\u001b[39;00m\u001b[38;5;124mOneDrive\u001b[39m\u001b[38;5;130;01m\\\\\u001b[39;00m\u001b[38;5;124mDesktop\u001b[39m\u001b[38;5;130;01m\\\\\u001b[39;00m\u001b[38;5;124mPROJECT\u001b[39m\u001b[38;5;130;01m\\\\\u001b[39;00m\u001b[38;5;124mlabel_encoder_classes_lstm.npy\u001b[39m\u001b[38;5;124m\"\u001b[39m,allow_pickle\u001b[38;5;241m=\u001b[39m\u001b[38;5;28;01mTrue\u001b[39;00m)\n\u001b[0;32m     33\u001b[0m \u001b[38;5;66;03m# Example usage:\u001b[39;00m\n\u001b[1;32m---> 34\u001b[0m ph_input \u001b[38;5;241m=\u001b[39m \u001b[38;5;28;43mfloat\u001b[39;49m\u001b[43m(\u001b[49m\u001b[38;5;28;43minput\u001b[39;49m\u001b[43m(\u001b[49m\u001b[38;5;124;43m\"\u001b[39;49m\u001b[38;5;124;43mEnter pH: \u001b[39;49m\u001b[38;5;124;43m\"\u001b[39;49m\u001b[43m)\u001b[49m\u001b[43m)\u001b[49m\n\u001b[0;32m     35\u001b[0m temperature_input \u001b[38;5;241m=\u001b[39m \u001b[38;5;28mfloat\u001b[39m(\u001b[38;5;28minput\u001b[39m(\u001b[38;5;124m\"\u001b[39m\u001b[38;5;124mEnter temperature: \u001b[39m\u001b[38;5;124m\"\u001b[39m))\n\u001b[0;32m     36\u001b[0m turbidity_input \u001b[38;5;241m=\u001b[39m \u001b[38;5;28mfloat\u001b[39m(\u001b[38;5;28minput\u001b[39m(\u001b[38;5;124m\"\u001b[39m\u001b[38;5;124mEnter turbidity:\u001b[39m\u001b[38;5;124m\"\u001b[39m))\n",
      "\u001b[1;31mValueError\u001b[0m: could not convert string to float: ''"
     ]
    }
   ],
   "source": [
    "import numpy as np\n",
    "from tensorflow.keras.models import load_model\n",
    "from tensorflow.keras.preprocessing.sequence import pad_sequences\n",
    "from sklearn.preprocessing import LabelEncoder\n",
    "\n",
    "def predict_fish_category(model, label_encoder, ph, temperature, turbidity):\n",
    "    class_names = label_encoder.classes_\n",
    "\n",
    "    ph_range = (5.5, 9.0)\n",
    "    temperature_range = (4.0, 35.0)\n",
    "    turbidity_range = (1.0, 15.8)\n",
    "\n",
    "    if not (ph_range[0] <= ph <= ph_range[1]):\n",
    "        return f\"Invalid pH value. Please enter a value between {ph_range[0]} and {ph_range[1]}.\"\n",
    "    elif not (temperature_range[0] <= temperature <= temperature_range[1]):\n",
    "        return f\"Invalid temperature value. Please enter a value between {temperature_range[0]} and {temperature_range[1]}.\"\n",
    "    elif not (turbidity_range[0] <= turbidity <= turbidity_range[1]):\n",
    "        return f\"Invalid turbidity value. Please enter a value between {turbidity_range[0]} and {turbidity_range[1]}.\"\n",
    "    else:\n",
    "        new_data = np.array([[ph, temperature, turbidity]])\n",
    "        new_data_padded = pad_sequences(new_data, padding='post', dtype='float32').reshape(1, 3, 1)\n",
    "\n",
    "        prediction_probs = model.predict(new_data_padded)\n",
    "        predicted_class = np.argmax(prediction_probs)\n",
    "\n",
    "        return f'Predicted Fish Category: {class_names[predicted_class]}'\n",
    "\n",
    "# Load the model and label encoder\n",
    "model = load_model(\"C:\\\\Users\\\\kamal\\\\OneDrive\\\\Desktop\\\\PROJECT\\\\lstm_model_fish.h5\")\n",
    "label_encoder = LabelEncoder()\n",
    "label_encoder.classes_ = np.load(\"C:\\\\Users\\\\kamal\\\\OneDrive\\\\Desktop\\\\PROJECT\\\\label_encoder_classes_lstm.npy\",allow_pickle=True)\n",
    "\n",
    "# Example usage:\n",
    "ph_input = float(input(\"Enter pH: \"))\n",
    "temperature_input = float(input(\"Enter temperature: \"))\n",
    "turbidity_input = float(input(\"Enter turbidity:\"))\n",
    "\n",
    "prediction_result = predict_fish_category(model, label_encoder, ph_input, temperature_input, turbidity_input)\n",
    "print(prediction_result)\n"
   ]
  },
  {
   "cell_type": "markdown",
   "metadata": {},
   "source": [
    "BILSTM REAL TIME PREDICITON"
   ]
  },
  {
   "cell_type": "code",
   "execution_count": null,
   "metadata": {},
   "outputs": [],
   "source": [
    "import numpy as np\n",
    "from tensorflow.keras.models import load_model\n",
    "from tensorflow.keras.preprocessing.sequence import pad_sequences\n",
    "from sklearn.preprocessing import LabelEncoder\n",
    "\n",
    "def predict_fish_category(model, label_encoder, ph, temperature, turbidity):\n",
    "    class_names = label_encoder.classes_\n",
    "\n",
    "    ph_range = (5.5, 9.0)\n",
    "    temperature_range = (4.0, 35.0)\n",
    "    turbidity_range = (1.0, 15.8)\n",
    "\n",
    "    if not (ph_range[0] <= ph <= ph_range[1]):\n",
    "        return f\"Invalid pH value. Please enter a value between {ph_range[0]} and {ph_range[1]}.\"\n",
    "    elif not (temperature_range[0] <= temperature <= temperature_range[1]):\n",
    "        return f\"Invalid temperature value. Please enter a value between {temperature_range[0]} and {temperature_range[1]}.\"\n",
    "    elif not (turbidity_range[0] <= turbidity <= turbidity_range[1]):\n",
    "        return f\"Invalid turbidity value. Please enter a value between {turbidity_range[0]} and {turbidity_range[1]}.\"\n",
    "    else:\n",
    "        new_data = np.array([[ph, temperature, turbidity]])\n",
    "        new_data_padded = pad_sequences(new_data, padding='post', dtype='float32').reshape(1, 3, 1)\n",
    "\n",
    "        prediction_probs = model.predict(new_data_padded)\n",
    "        predicted_class = np.argmax(prediction_probs)\n",
    "\n",
    "        return f'Predicted Fish Category: {class_names[predicted_class]}'\n",
    "\n",
    "# Load the model and label encoder\n",
    "model = load_model(\"C:\\\\Users\\\\kamal\\\\OneDrive\\\\Desktop\\\\PROJECT\\\\bilstm_model_fish.h5\")\n",
    "label_encoder = LabelEncoder()\n",
    "label_encoder.classes_ = np.load(\"C:\\\\Users\\\\kamal\\\\OneDrive\\\\Desktop\\\\PROJECT\\\\label_encoder_classes_bilstm.npy\",allow_pickle=True)\n",
    "\n",
    "# Example usage:\n",
    "ph_input = float(input(\"Enter pH: \"))\n",
    "temperature_input = float(input(\"Enter temperature: \"))\n",
    "turbidity_input = float(input(\"Enter turbidity:\"))\n",
    "\n",
    "prediction_result = predict_fish_category(model, label_encoder, ph_input, temperature_input, turbidity_input)\n",
    "print(prediction_result)\n"
   ]
  },
  {
   "cell_type": "markdown",
   "metadata": {},
   "source": [
    "GRU REAL TIME PREDCITION\n"
   ]
  },
  {
   "cell_type": "code",
   "execution_count": 3,
   "metadata": {},
   "outputs": [
    {
     "name": "stdout",
     "output_type": "stream",
     "text": [
      "1/1 [==============================] - 0s 409ms/step\n",
      "Predicted Fish Category: tilapia\n"
     ]
    }
   ],
   "source": [
    "import numpy as np\n",
    "from tensorflow.keras.models import load_model\n",
    "from tensorflow.keras.preprocessing.sequence import pad_sequences\n",
    "from sklearn.preprocessing import LabelEncoder\n",
    "\n",
    "def predict_fish_category(model, label_encoder, ph, temperature, turbidity):\n",
    "    class_names = label_encoder.classes_\n",
    "\n",
    "    ph_range = (5.5, 9.0)\n",
    "    temperature_range = (4.0, 35.0)\n",
    "    turbidity_range = (1.0, 15.8)\n",
    "\n",
    "    if not (ph_range[0] <= ph <= ph_range[1]):\n",
    "        return f\"Invalid pH value. Please enter a value between {ph_range[0]} and {ph_range[1]}.\"\n",
    "    elif not (temperature_range[0] <= temperature <= temperature_range[1]):\n",
    "        return f\"Invalid temperature value. Please enter a value between {temperature_range[0]} and {temperature_range[1]}.\"\n",
    "    elif not (turbidity_range[0] <= turbidity <= turbidity_range[1]):\n",
    "        return f\"Invalid turbidity value. Please enter a value between {turbidity_range[0]} and {turbidity_range[1]}.\"\n",
    "    else:\n",
    "        new_data = np.array([[ph, temperature, turbidity]])\n",
    "        new_data_padded = pad_sequences(new_data, padding='post', dtype='float32').reshape(1, 3, 1)\n",
    "\n",
    "        prediction_probs = model.predict(new_data_padded)\n",
    "        predicted_class = np.argmax(prediction_probs)\n",
    "\n",
    "        return f'Predicted Fish Category: {class_names[predicted_class]}'\n",
    "\n",
    "# Load the model and label encoder\n",
    "model = load_model(\"C:\\\\Users\\\\kamal\\\\OneDrive\\\\Desktop\\\\PROJECT\\\\gru_model_fish.h5\")\n",
    "label_encoder = LabelEncoder()\n",
    "label_encoder.classes_ = np.load(\"C:\\\\Users\\\\kamal\\\\OneDrive\\\\Desktop\\\\PROJECT\\\\label_encoder_classes_gru.npy\",allow_pickle=True)\n",
    "\n",
    "# Example usage:\n",
    "ph_input = float(input(\"Enter pH: \"))\n",
    "temperature_input = float(input(\"Enter temperature: \"))\n",
    "turbidity_input = float(input(\"Enter turbidity:\"))\n",
    "\n",
    "prediction_result = predict_fish_category(model, label_encoder, ph_input, temperature_input, turbidity_input)\n",
    "print(prediction_result)\n"
   ]
  }
 ],
 "metadata": {
  "kernelspec": {
   "display_name": "Python 3",
   "language": "python",
   "name": "python3"
  },
  "language_info": {
   "codemirror_mode": {
    "name": "ipython",
    "version": 3
   },
   "file_extension": ".py",
   "mimetype": "text/x-python",
   "name": "python",
   "nbconvert_exporter": "python",
   "pygments_lexer": "ipython3",
   "version": "3.11.2"
  }
 },
 "nbformat": 4,
 "nbformat_minor": 2
}
